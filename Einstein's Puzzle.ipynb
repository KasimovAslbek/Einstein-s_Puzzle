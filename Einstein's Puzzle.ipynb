{
 "cells": [
  {
   "cell_type": "code",
   "execution_count": null,
   "metadata": {},
   "outputs": [],
   "source": [
    "'''\n",
    "EYNSHTEYN MASALASI\n",
    "Shartlar:\n",
    "1.5ta turli rangli uy bor.\n",
    "2.Har bir uyda bittadan turli millatga mansub odam yashaydi. Bular - nemis, ingliz, shved, daniyalik va norvegiyalik.\n",
    "3.Ularning har biri turli hil ichimlik iste'mol qiladilar, turli markali tamaki chekadilar va turli hil hayvon boqadilar.\n",
    "4.Eslatma: ularning hech qaysinisi boshqasi ichadigan ichimlikni ichmaydi, boshqasi chekadigan tamakini chekmaydi va boshqasi boqadigan hayvonni boqmaydi.\n",
    "\n",
    "Berilgan ma'lumotlar:\n",
    "1.Ingliz qizil uyda yashaydi.\n",
    "2.Shved kuchuk boqadi.\n",
    "3.Daniyalik choy ichadi.\n",
    "4.Yashil uy oq uyning chap tomonida joylashgan.\n",
    "5.Yashil uyning egasi kofe ichadi.\n",
    "6.\"Pall-Mall\" tamakisini chekuvchi qush boqadi.\n",
    "7.O'rtada joylashgan uyning egasi sut ichadi.\n",
    "8.Sariq uyning egasi \"Dunhill\" markali tamaki chekadi.\n",
    "9.Norvegiyalik birinchi uyda turadi.\n",
    "10.\"Marlboro\" tamakisini chekuvchi mushuk boqiladigan uyning yonidagi uyda yashaydi.\n",
    "11.Ot boquvchi \"Dunhill\" markali tamaki chekuvchi uyining yonidagi uyda yashaydi.\n",
    "12.\"Winfield\" markali tamaki chekuvchi pivo iste'mol qiladi.\n",
    "13.Norvegiyalik havorang uyning yonidagi uyda yashaydi.\n",
    "14.Nemis \"Rothmans\" markali tamaki chekadi.\n",
    "15.\"Marlboro\" markali tamaki chekuvchining uyi suv iste'mol qiladigan odam uyining yonida joylashgan.\n",
    "\n",
    "Savol:\n",
    "Shu 5 millat vakilidan qaysi biri baliq boqadi?\n",
    "\n",
    "'''"
   ]
  },
  {
   "cell_type": "code",
   "execution_count": null,
   "metadata": {},
   "outputs": [],
   "source": []
  },
  {
   "cell_type": "code",
   "execution_count": 18,
   "metadata": {},
   "outputs": [],
   "source": [
    "from constraint import *\n",
    "problem = Problem()"
   ]
  },
  {
   "cell_type": "code",
   "execution_count": 19,
   "metadata": {},
   "outputs": [],
   "source": [
    "millati = [\"nemis\", \"ingliz\", \"shved\", \"daniyalik\",\"norvegiyalik\"]\n",
    "hayvon = [\"kuchuk\", \"qush\", \"mushuk\", \"ot\", \"baliq\"]\n",
    "tamaki = [\"Pall-Mall\", \"Dunhill\", \"Marlboro\", \"Rothmans\", \"Winfield\"]\n",
    "rang = [\"qizil\",\"yashil\",\"oq\",\"sariq\",\"havorang\"]\n",
    "ichimlik = [\"choy\",\"kofe\",\"sut\",\"pivo\",\"suv\"]\n",
    "criteria = millati + hayvon + tamaki + rang + ichimlik"
   ]
  },
  {
   "cell_type": "code",
   "execution_count": 20,
   "metadata": {},
   "outputs": [],
   "source": [
    "problem.addVariables(criteria, [1,2,3,4,5]) #uylar 1-5 ketma-ketlikda"
   ]
  },
  {
   "cell_type": "code",
   "execution_count": 21,
   "metadata": {},
   "outputs": [],
   "source": [
    "problem.addConstraint(AllDifferentConstraint(), millati)\n",
    "problem.addConstraint(AllDifferentConstraint(), hayvon)\n",
    "problem.addConstraint(AllDifferentConstraint(), tamaki)\n",
    "problem.addConstraint(AllDifferentConstraint(), rang)\n",
    "problem.addConstraint(AllDifferentConstraint(), ichimlik)"
   ]
  },
  {
   "cell_type": "code",
   "execution_count": 22,
   "metadata": {},
   "outputs": [],
   "source": [
    "problem.addConstraint(lambda i, q: i==q, [\"ingliz\",\"qizil\"])\n",
    "problem.addConstraint(lambda s, k: s==k, [\"shved\", \"kuchuk\"])\n",
    "problem.addConstraint(lambda d, c: d==c, [\"daniyalik\", \"choy\"])\n",
    "problem.addConstraint(lambda o, y: o-y==1, [\"oq\", \"yashil\"])\n",
    "problem.addConstraint(lambda y, k: y==k, [\"yashil\", \"kofe\"])\n",
    "problem.addConstraint(lambda p, q: p==q, [\"Pall-Mall\", \"qush\"])\n",
    "problem.addConstraint(InSetConstraint([3]), [\"sut\"])\n",
    "problem.addConstraint(lambda s, d: s==d, [\"sariq\", \"Dunhill\"])\n",
    "problem.addConstraint(InSetConstraint([1]), [\"norvegiyalik\"])\n",
    "problem.addConstraint(lambda s, m: abs(s-m)==1, [\"Marlboro\", \"mushuk\"])\n",
    "problem.addConstraint(lambda o, d: abs(o-d)==1, [\"ot\", \"Dunhill\"])\n",
    "problem.addConstraint(lambda w, p: w==p, [\"Winfield\", \"pivo\"])\n",
    "problem.addConstraint(lambda n, h: abs(n-h)==1, [\"norvegiyalik\", \"havorang\"])\n",
    "problem.addConstraint(lambda n, r: n==r, [\"nemis\", \"Rothmans\"])\n",
    "problem.addConstraint(lambda m, s: abs(m-s)==1, [\"Marlboro\", \"suv\"])"
   ]
  },
  {
   "cell_type": "code",
   "execution_count": 23,
   "metadata": {},
   "outputs": [
    {
     "name": "stdout",
     "output_type": "stream",
     "text": [
      "1 Dunhill\n",
      "1 norvegiyalik\n",
      "1 sariq\n",
      "1 mushuk\n",
      "1 suv\n",
      "2 Marlboro\n",
      "2 havorang\n",
      "2 ot\n",
      "2 choy\n",
      "2 daniyalik\n",
      "3 qizil\n",
      "3 ingliz\n",
      "3 Pall-Mall\n",
      "3 qush\n",
      "3 sut\n",
      "4 yashil\n",
      "4 kofe\n",
      "4 Rothmans\n",
      "4 nemis\n",
      "4 baliq\n",
      "5 oq\n",
      "5 Winfield\n",
      "5 pivo\n",
      "5 shved\n",
      "5 kuchuk\n"
     ]
    }
   ],
   "source": [
    "solution = problem.getSolutions()[0]\n",
    "for i in range(1,6):\n",
    "    for x in solution:\n",
    "        if solution[x]==i:\n",
    "            print(str(i), x)\n"
   ]
  },
  {
   "cell_type": "code",
   "execution_count": null,
   "metadata": {},
   "outputs": [],
   "source": [
    "''' \n",
    "Javob: Nemis millat vakili baliq boqadi. \n",
    "'''\n",
    "'''\n",
    "uy rangi -- 1)sariq    --  2)havorang   --  3)qizil      --  4)yashil    --  5)oq\n",
    "millati  -- 1)norveg   --  2)daniyalik  --  3)ingliz     --  4)nemis     --  5)shved\n",
    "hayvon   -- 1)mushuk   --  2)ot         --  3)qush       --  4)baliq     --  5)kushuk\n",
    "ichimlik -- 1)suv      --  2)choy       --  3)sut        --  4)kofe      --  5)pivo\n",
    "tamaki   -- 1)Dunhill  --  2)Marlboro   --  3)Pall Mall  --  4)Rothmans  --  5)Winfield\n",
    "\n",
    "'''"
   ]
  }
 ],
 "metadata": {
  "kernelspec": {
   "display_name": "Python 3",
   "language": "python",
   "name": "python3"
  },
  "language_info": {
   "codemirror_mode": {
    "name": "ipython",
    "version": 3
   },
   "file_extension": ".py",
   "mimetype": "text/x-python",
   "name": "python",
   "nbconvert_exporter": "python",
   "pygments_lexer": "ipython3",
   "version": "3.8.5"
  }
 },
 "nbformat": 4,
 "nbformat_minor": 4
}
